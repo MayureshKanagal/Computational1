{
 "cells": [
  {
   "cell_type": "code",
   "execution_count": null,
   "id": "69bc8291-da45-4503-abd7-cd0c8dbd822d",
   "metadata": {},
   "outputs": [],
   "source": []
  },
  {
   "cell_type": "code",
   "execution_count": 9,
   "id": "c450d4d8-9033-4c45-b9db-20aaaf252885",
   "metadata": {},
   "outputs": [
    {
     "name": "stdout",
     "output_type": "stream",
     "text": [
      "Chi-square statistic for Set 1: 29.4917\n",
      "Chi-square statistic for Set 2: 1.1417\n",
      "The test results are:\n",
      "Set 1: Not Sufficiently Random\n",
      "Set 2: Sufficiently Random\n"
     ]
    }
   ],
   "source": [
    "import numpy as np\n",
    "from scipy.stats import chi2\n",
    "\n",
    "def criterion(v, df):\n",
    "    p_value = 1.0 - chi2.cdf(v, df)\n",
    "    if p_value < 0.01:\n",
    "        return \"Not Sufficiently Random\"\n",
    "    elif 0.01 <= p_value < 0.05:\n",
    "        return \"Suspect\"\n",
    "    elif 0.05 <= p_value < 0.1:\n",
    "        return \"Almost Suspect\"\n",
    "    else:\n",
    "        return \"Sufficiently Random\"\n",
    "\n",
    "def chi_square_stat(observed, expected_probs, total_observations):\n",
    "    expected_counts = total_observations * expected_probs\n",
    "    chi_square = np.sum((observed - expected_counts) ** 2 / expected_counts)\n",
    "    return chi_square\n",
    "\n",
    "dice_prob = np.array([1, 2, 3, 4, 5, 6, 5, 4, 3, 2, 1], dtype=np.float64)\n",
    "dice_prob = dice_prob / np.sum(dice_prob)\n",
    "\n",
    "Y_1 = np.array([4, 10, 10, 13, 20, 18, 18, 11, 13, 14, 13], dtype=np.float64)\n",
    "Y_2 = np.array([3, 7, 11, 15, 19, 24, 21, 17, 13, 9, 5], dtype=np.float64)\n",
    "\n",
    "n1 = np.sum(Y_1)\n",
    "n2 = np.sum(Y_2)\n",
    "\n",
    "v1 = chi_square_stat(Y_1, dice_prob, n1)\n",
    "v2 = chi_square_stat(Y_2, dice_prob, n2)\n",
    "\n",
    "# Degrees of freedom for the chi-square test\n",
    "degrees_of_freedom = len(dice_prob) - 1\n",
    "\n",
    "# Print the chi-square statistics and test results\n",
    "print(f\"Chi-square statistic for Set 1: {v1:.4f}\")\n",
    "print(f\"Chi-square statistic for Set 2: {v2:.4f}\")\n",
    "\n",
    "print(\"The test results are:\")\n",
    "print(f\"Set 1: {criterion(v1, degrees_of_freedom)}\")\n",
    "print(f\"Set 2: {criterion(v2, degrees_of_freedom)}\")\n"
   ]
  },
  {
   "cell_type": "code",
   "execution_count": null,
   "id": "dd0c86db-17e9-4477-a76f-2381ae50a312",
   "metadata": {},
   "outputs": [],
   "source": []
  }
 ],
 "metadata": {
  "kernelspec": {
   "display_name": "Python 3 (ipykernel)",
   "language": "python",
   "name": "python3"
  },
  "language_info": {
   "codemirror_mode": {
    "name": "ipython",
    "version": 3
   },
   "file_extension": ".py",
   "mimetype": "text/x-python",
   "name": "python",
   "nbconvert_exporter": "python",
   "pygments_lexer": "ipython3",
   "version": "3.8.8"
  }
 },
 "nbformat": 4,
 "nbformat_minor": 5
}
