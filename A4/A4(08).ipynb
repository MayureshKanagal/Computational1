{
 "cells": [
  {
   "cell_type": "code",
   "execution_count": 2,
   "id": "bd1c7220-6e3b-499b-a82b-4ee39f6ea3b3",
   "metadata": {},
   "outputs": [
    {
     "name": "stdout",
     "output_type": "stream",
     "text": [
      "Estimated volume of the 10-dimensional unit sphere: 2.575360\n"
     ]
    }
   ],
   "source": [
    "import numpy as np\n",
    "\n",
    "# Function to check if a point is inside the 10-dimensional unit sphere\n",
    "def is_inside_unit_sphere(point):\n",
    "    return np.sum(point**2) <= 1\n",
    "\n",
    "# Monte Carlo integration to estimate the volume of the 10-dimensional unit sphere\n",
    "def monte_carlo_unit_sphere(dim, num_points):\n",
    "    count_inside = 0\n",
    "    for _ in range(num_points):\n",
    "        point = np.random.uniform(-1, 1, dim)\n",
    "        if is_inside_unit_sphere(point):\n",
    "            count_inside += 1\n",
    "    volume_estimate = (2**dim) * (count_inside / num_points)\n",
    "    return volume_estimate\n",
    "\n",
    "# Number of random points to use for the Monte Carlo integration\n",
    "num_points = 1000000\n",
    "dim = 10\n",
    "volume_estimate = monte_carlo_unit_sphere(dim, num_points)\n",
    "print(f\"Estimated volume of the 10-dimensional unit sphere: {volume_estimate:.6f}\")\n"
   ]
  },
  {
   "cell_type": "code",
   "execution_count": null,
   "id": "cedcd89f-2a9b-4446-857a-4a8fb8667307",
   "metadata": {},
   "outputs": [],
   "source": []
  },
  {
   "cell_type": "code",
   "execution_count": null,
   "id": "303f0b02-f6ae-4b34-a6fd-a9d381c27c08",
   "metadata": {},
   "outputs": [],
   "source": []
  }
 ],
 "metadata": {
  "kernelspec": {
   "display_name": "Python 3 (ipykernel)",
   "language": "python",
   "name": "python3"
  },
  "language_info": {
   "codemirror_mode": {
    "name": "ipython",
    "version": 3
   },
   "file_extension": ".py",
   "mimetype": "text/x-python",
   "name": "python",
   "nbconvert_exporter": "python",
   "pygments_lexer": "ipython3",
   "version": "3.8.8"
  }
 },
 "nbformat": 4,
 "nbformat_minor": 5
}
