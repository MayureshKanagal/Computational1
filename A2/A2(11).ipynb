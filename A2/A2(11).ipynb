{
 "cells": [
  {
   "cell_type": "markdown",
   "id": "68bada3f-fed8-4907-a623-8c7a1c00e938",
   "metadata": {},
   "source": [
    "Question 11"
   ]
  },
  {
   "cell_type": "markdown",
   "id": "fae4fa08-85ee-4743-964b-18d7fbd8702a",
   "metadata": {},
   "source": [
    "since the limit for t was 0 to infinty we need to do the substitution u=t/(t+1)\n"
   ]
  },
  {
   "cell_type": "code",
   "execution_count": 1,
   "id": "a2cf85e7-f8f9-4b4e-ad37-9f6c739b245d",
   "metadata": {},
   "outputs": [
    {
     "name": "stdout",
     "output_type": "stream",
     "text": [
      "Value of x at t = 3.5e6 (u = 0.9999997143): 1.2280582903\n"
     ]
    }
   ],
   "source": [
    "import numpy as np\n",
    "from scipy.integrate import solve_ivp\n",
    "\n",
    "def transformed_system(u, x):\n",
    "    t = u / (1 - u)  # Reverse transformation to get t from u\n",
    "    return (1 - u)**2 / (x**2 + t**2)  # Differential equation in u\n",
    "\n",
    "# Initial conditions and target u calculation\n",
    "x0 = [1]\n",
    "u0 = 0\n",
    "t = 3.5e6\n",
    "u_target = t / (t + 1)\n",
    "\n",
    "# Solve the ODE from u0 to u_target\n",
    "solution = solve_ivp(transformed_system, [u0, u_target], x0, method='RK45', rtol=1e-6, atol=1e-9)\n",
    "\n",
    "# Extracting the final value\n",
    "x_at_u_target = solution.y[0][-1]\n",
    "print(\"Value of x at t = 3.5e6 (u = {:.10f}): {:.10f}\".format(u_target, x_at_u_target))"
   ]
  },
  {
   "cell_type": "code",
   "execution_count": null,
   "id": "2e807228-6d3c-46a7-a6d5-213aa7123aaf",
   "metadata": {},
   "outputs": [],
   "source": []
  }
 ],
 "metadata": {
  "kernelspec": {
   "display_name": "Python 3",
   "language": "python",
   "name": "python3"
  },
  "language_info": {
   "codemirror_mode": {
    "name": "ipython",
    "version": 3
   },
   "file_extension": ".py",
   "mimetype": "text/x-python",
   "name": "python",
   "nbconvert_exporter": "python",
   "pygments_lexer": "ipython3",
   "version": "3.8.8"
  }
 },
 "nbformat": 4,
 "nbformat_minor": 5
}
