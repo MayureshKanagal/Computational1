{
 "cells": [
  {
   "cell_type": "markdown",
   "id": "e45d9b73-f756-4b4a-8364-49550acd3d2f",
   "metadata": {},
   "source": [
    "Question 2:"
   ]
  },
  {
   "cell_type": "code",
   "execution_count": 3,
   "id": "e69e262d-85a7-47d6-afce-64d4336586d5",
   "metadata": {},
   "outputs": [
    {
     "name": "stdout",
     "output_type": "stream",
     "text": [
      "Euler sol = [1.         1.         1.00826446 1.02168947 1.03851473 1.05766819\n",
      " 1.07846109 1.10043216 1.12326205 1.1467236  1.17065157]\n",
      "Exact solution = [1.         1.00428173 1.01495231 1.02981369 1.04753392 1.06726235\n",
      " 1.08843269 1.11065505 1.13365356 1.15722843 1.18123222]\n",
      "abs_err= [0.0, 0.004281727936202406, 0.006687851223824204, 0.00812421723094725, 0.009019185004341734, 0.009594162040996945, 0.009971593314036298, 0.010222887446798445, 0.010391505152042235, 0.010504836525143224, 0.010580648734618059]\n",
      "rel_err= [0.0, 0.004263472905159145, 0.006589325558798489, 0.007889016545476033, 0.008609921682323643, 0.008989506660104677, 0.009161423975622416, 0.009204376666763834, 0.009166385171485736, 0.009077582459164272, 0.008957297786756859]\n"
     ]
    }
   ],
   "source": [
    "import numpy as np\n",
    "\n",
    "def fun(y,t):\n",
    "    m=(y/t)-(y/t)**2\n",
    "    return m\n",
    "def exsol(t):\n",
    "    return(t/(1+np.log(t)))\n",
    "\n",
    "#initial condition\n",
    "y1=1\n",
    "t1=1\n",
    "#Step Size\n",
    "h=0.1\n",
    "start=1\n",
    "stop=2\n",
    "n=int((stop-start)/h)\n",
    "euler_sol=[y1]\n",
    "t=[t1]\n",
    "act_sol=[]\n",
    "for _ in np.arange(n):\n",
    "    t_val=t[-1]\n",
    "    wn=euler_sol[-1]\n",
    "    wn1=wn + (h*fun(wn,t_val))\n",
    "    euler_sol.append(wn1)\n",
    "    t.append(t_val+h)\n",
    "#compute exact solution\n",
    "for i in t:  \n",
    "    z= exsol(i)\n",
    "    act_sol.append(z)\n",
    "    \n",
    "print('Euler sol =',np.array(euler_sol))\n",
    "print('Exact solution =', np.array(act_sol)) \n",
    "\n",
    "abs_err=[]\n",
    "rel_err=[]\n",
    "for j in range(len(act_sol)):\n",
    "    err= abs(np.array(euler_sol[j])-np.array(act_sol[j]))\n",
    "    abs_err.append (err)\n",
    "    Rerr= abs(np.array(euler_sol[j])-np.array(act_sol[j]))/np.array(act_sol[j])\n",
    "    rel_err.append(Rerr)\n",
    "print('abs_err=',abs_err)\n",
    "print('rel_err=',rel_err)"
   ]
  },
  {
   "cell_type": "code",
   "execution_count": null,
   "id": "b218cbf8-492b-4c2a-b1bc-f1d294d92efc",
   "metadata": {},
   "outputs": [],
   "source": []
  }
 ],
 "metadata": {
  "kernelspec": {
   "display_name": "Python 3 (ipykernel)",
   "language": "python",
   "name": "python3"
  },
  "language_info": {
   "codemirror_mode": {
    "name": "ipython",
    "version": 3
   },
   "file_extension": ".py",
   "mimetype": "text/x-python",
   "name": "python",
   "nbconvert_exporter": "python",
   "pygments_lexer": "ipython3",
   "version": "3.8.8"
  }
 },
 "nbformat": 4,
 "nbformat_minor": 5
}
