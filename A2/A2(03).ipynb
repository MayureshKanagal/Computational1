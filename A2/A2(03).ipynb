{
 "cells": [
  {
   "cell_type": "markdown",
   "id": "84a74c75-7af3-493c-a10e-b00b720b495b",
   "metadata": {},
   "source": [
    "Question 3"
   ]
  },
  {
   "cell_type": "code",
   "execution_count": 7,
   "id": "a6eef6b1-8f28-4f9f-8834-0166130cafec",
   "metadata": {},
   "outputs": [
    {
     "name": "stdout",
     "output_type": "stream",
     "text": [
      "x_val= [0, 0.5, 1.0]\n",
      "y_val= [0, 0.007396495226243266, 0.1694638413464838]\n"
     ]
    }
   ],
   "source": [
    "import numpy as np\n",
    "\n",
    "\n",
    "def f1(y1,z1,x1):\n",
    "    return(2*z1 -y1 +x1*np.exp(x1)-x1)\n",
    "\n",
    "h=0.5\n",
    "start=0\n",
    "stop=1\n",
    "n=(stop-start)/h\n",
    "\n",
    "x0=0          #initial x\n",
    "y0=0          # initial y\n",
    "z0=0          #initial z(y')\n",
    "x_val=[x0]\n",
    "y_val=[y0]\n",
    "z_val=[z0]\n",
    "\n",
    "for _ in np.arange(n):\n",
    "    x=x_val[-1]\n",
    "    z=z_val[-1]\n",
    "    y=y_val[-1]\n",
    "    \n",
    "    k1y=h*z\n",
    "    k1z=h*f1(y,z,x)\n",
    "    \n",
    "    k2y=h*(z+ 0.5 * k1z)\n",
    "    k2z=h*f1(y+0.5*k1y,z+0.5*k1z,x+0.5*h)\n",
    "    \n",
    "    k3y=h*(z+ 0.5 * k2z)\n",
    "    k3z=h*f1(y+0.5*k2y,z+0.5*k2z,x+0.5*h)\n",
    "    \n",
    "    k4y=h*(z+ k3z)\n",
    "    k4z=h*f1(y+k3y,z+k3z,x+h)\n",
    "    \n",
    "    yf=y+(k1y+(2*k2y)+(2*k3y)+k4y)/6\n",
    "    zf=z+(k1z + 2*k2z + 2*k3z + k4z) / 6\n",
    "    y_val.append(yf)\n",
    "    z_val.append(zf)\n",
    "    x_val.append(x+h)\n",
    "print('x_val=',x_val)\n",
    "print('y_val=',y_val)\n",
    "\n",
    "    "
   ]
  },
  {
   "cell_type": "code",
   "execution_count": null,
   "id": "fc365817-1806-4687-a490-a5047571b5cd",
   "metadata": {},
   "outputs": [],
   "source": []
  }
 ],
 "metadata": {
  "kernelspec": {
   "display_name": "Python 3",
   "language": "python",
   "name": "python3"
  },
  "language_info": {
   "codemirror_mode": {
    "name": "ipython",
    "version": 3
   },
   "file_extension": ".py",
   "mimetype": "text/x-python",
   "name": "python",
   "nbconvert_exporter": "python",
   "pygments_lexer": "ipython3",
   "version": "3.8.8"
  }
 },
 "nbformat": 4,
 "nbformat_minor": 5
}
