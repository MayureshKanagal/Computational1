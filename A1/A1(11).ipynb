{
 "cells": [
  {
   "cell_type": "markdown",
   "id": "a6505009-2c22-45db-80c5-0c765420ac2e",
   "metadata": {},
   "source": [
    "## Problem 11 Solve equation using numpy.linalg.solve"
   ]
  },
  {
   "cell_type": "markdown",
   "id": "3db1b948-c3e6-4b91-a8a0-dd41247e0f0f",
   "metadata": {},
   "source": [
    "### 11.a"
   ]
  },
  {
   "cell_type": "code",
   "execution_count": 2,
   "id": "2fd8a1d4-ca3d-4a26-9046-d4b4817d68b7",
   "metadata": {},
   "outputs": [
    {
     "name": "stdout",
     "output_type": "stream",
     "text": [
      "Solution: [ 0.03508772 -0.23684211  0.65789474]\n"
     ]
    }
   ],
   "source": [
    "import numpy as np\n",
    "\n",
    "# Coefficient matrix\n",
    "A = np.array([[3,-1,1], [3,6,2], [3,3,7]])\n",
    "\n",
    "# Right-hand side vector\n",
    "b = np.array([1,0,4])\n",
    "\n",
    "# Solve the system using linalg.solve\n",
    "solution = np.linalg.solve(A, b)\n",
    "\n",
    "print(\"Solution:\", solution)"
   ]
  },
  {
   "cell_type": "markdown",
   "id": "d28fa0cb-790d-44e6-98f4-8af99dd19de7",
   "metadata": {},
   "source": [
    "### 11.b"
   ]
  },
  {
   "cell_type": "code",
   "execution_count": 3,
   "id": "881f150f-c852-44e5-b1c1-2ff5bc606066",
   "metadata": {},
   "outputs": [
    {
     "name": "stdout",
     "output_type": "stream",
     "text": [
      "Solution: [0.99578947 0.95789474 0.79157895]\n"
     ]
    }
   ],
   "source": [
    "import numpy as np\n",
    "\n",
    "# Coefficient matrix\n",
    "A = np.array([[10, -1,0], [-1,10,-2], [0,-2,10]])\n",
    "\n",
    "# Right-hand side vector\n",
    "b = np.array([9,7,6])\n",
    "\n",
    "# Solve the system using linalg.solve\n",
    "solution = np.linalg.solve(A, b)\n",
    "\n",
    "print(\"Solution:\", solution)"
   ]
  },
  {
   "cell_type": "markdown",
   "id": "55602384-fe93-4bf2-8d44-05e7fdbdadc5",
   "metadata": {},
   "source": [
    "### 11.c"
   ]
  },
  {
   "cell_type": "code",
   "execution_count": 4,
   "id": "30f20e66-5fc7-47a4-ae99-17488be84544",
   "metadata": {},
   "outputs": [
    {
     "name": "stdout",
     "output_type": "stream",
     "text": [
      "Solution: [-0.79764706  2.79529412 -0.25882353 -2.25176471]\n"
     ]
    }
   ],
   "source": [
    "import numpy as np\n",
    "\n",
    "# Coefficient matrix\n",
    "A = np.array([[10, 5, 0, 0], [5, 10, -4, 0], [0, -4, 8, -1], [0, 0, -1, 5]])\n",
    "\n",
    "# Right-hand side vector\n",
    "b = np.array([6, 25, -11,-11])\n",
    "\n",
    "# Solve the system using linalg.solve\n",
    "solution = np.linalg.solve(A, b)\n",
    "\n",
    "print(\"Solution:\", solution)"
   ]
  },
  {
   "cell_type": "markdown",
   "id": "952a6a3b-5356-469e-9fc7-7f9951f3330d",
   "metadata": {},
   "source": [
    "### 11.d"
   ]
  },
  {
   "cell_type": "code",
   "execution_count": 5,
   "id": "7a69eefb-dcd6-4762-8207-04f0e90fa576",
   "metadata": {},
   "outputs": [
    {
     "name": "stdout",
     "output_type": "stream",
     "text": [
      "Solution: [ 0.78663239 -1.00257069  1.86632391  1.9125964   1.98971722]\n"
     ]
    }
   ],
   "source": [
    "import numpy as np\n",
    "\n",
    "# Coefficient matrix\n",
    "A = np.array([[4,1,1,0,1], [-1,-3,1,1,0], [2,1,5,-1,-1], [-1,-1,-1,4,0],[0,2,-1,1,4]])\n",
    "\n",
    "# Right-hand side vector\n",
    "b = np.array([6, 6,6,6,6])\n",
    "\n",
    "# Solve the system using linalg.solve\n",
    "solution = np.linalg.solve(A, b)\n",
    "\n",
    "print(\"Solution:\", solution)"
   ]
  },
  {
   "cell_type": "code",
   "execution_count": null,
   "id": "705ed331-5ed3-4ba9-bb84-218530f583c4",
   "metadata": {},
   "outputs": [],
   "source": []
  }
 ],
 "metadata": {
  "kernelspec": {
   "display_name": "Python 3",
   "language": "python",
   "name": "python3"
  },
  "language_info": {
   "codemirror_mode": {
    "name": "ipython",
    "version": 3
   },
   "file_extension": ".py",
   "mimetype": "text/x-python",
   "name": "python",
   "nbconvert_exporter": "python",
   "pygments_lexer": "ipython3",
   "version": "3.8.8"
  }
 },
 "nbformat": 4,
 "nbformat_minor": 5
}
