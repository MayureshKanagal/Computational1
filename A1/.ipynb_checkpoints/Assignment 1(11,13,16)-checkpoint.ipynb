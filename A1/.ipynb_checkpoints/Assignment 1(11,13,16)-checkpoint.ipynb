{
 "cells": [
  {
   "cell_type": "code",
   "execution_count": 2,
   "id": "16f54e2f-0c68-4b2a-b4fc-0ed0bcff006d",
   "metadata": {},
   "outputs": [
    {
     "name": "stdout",
     "output_type": "stream",
     "text": [
      "Solution: [ 0.03508772 -0.23684211  0.65789474]\n"
     ]
    }
   ],
   "source": [
    "# 11. Solve equation using numpy.linalg.solve\n",
    "# 11.a\n",
    "import numpy as np\n",
    "\n",
    "# Coefficient matrix\n",
    "A = np.array([[3,-1,1], [3,6,2], [3,3,7]])\n",
    "\n",
    "# Right-hand side vector\n",
    "b = np.array([1,0,4])\n",
    "\n",
    "# Solve the system using linalg.solve\n",
    "solution = np.linalg.solve(A, b)\n",
    "\n",
    "print(\"Solution:\", solution)"
   ]
  },
  {
   "cell_type": "code",
   "execution_count": 3,
   "id": "9e55dacc-0380-4c3f-9e83-ddb73dc6a6e1",
   "metadata": {},
   "outputs": [
    {
     "name": "stdout",
     "output_type": "stream",
     "text": [
      "Solution: [0.99578947 0.95789474 0.79157895]\n"
     ]
    }
   ],
   "source": [
    "# 11.b\n",
    "import numpy as np\n",
    "\n",
    "# Coefficient matrix\n",
    "A = np.array([[10, -1,0], [-1,10,-2], [0,-2,10]])\n",
    "\n",
    "# Right-hand side vector\n",
    "b = np.array([9,7,6])\n",
    "\n",
    "# Solve the system using linalg.solve\n",
    "solution = np.linalg.solve(A, b)\n",
    "\n",
    "print(\"Solution:\", solution)"
   ]
  },
  {
   "cell_type": "code",
   "execution_count": 4,
   "id": "0073c020-54c1-4fb8-a1e2-ea2543a03dd4",
   "metadata": {},
   "outputs": [
    {
     "name": "stdout",
     "output_type": "stream",
     "text": [
      "Solution: [-0.79764706  2.79529412 -0.25882353 -2.25176471]\n"
     ]
    }
   ],
   "source": [
    "# 11.c\n",
    "import numpy as np\n",
    "\n",
    "# Coefficient matrix\n",
    "A = np.array([[10, 5, 0, 0], [5, 10, -4, 0], [0, -4, 8, -1], [0, 0, -1, 5]])\n",
    "\n",
    "# Right-hand side vector\n",
    "b = np.array([6, 25, -11,-11])\n",
    "\n",
    "# Solve the system using linalg.solve\n",
    "solution = np.linalg.solve(A, b)\n",
    "\n",
    "print(\"Solution:\", solution)"
   ]
  },
  {
   "cell_type": "code",
   "execution_count": 5,
   "id": "f87cc5e7-61ce-4f60-9004-0ed2694581d8",
   "metadata": {},
   "outputs": [
    {
     "name": "stdout",
     "output_type": "stream",
     "text": [
      "Solution: [ 0.78663239 -1.00257069  1.86632391  1.9125964   1.98971722]\n"
     ]
    }
   ],
   "source": [
    "# 11.d\n",
    "import numpy as np\n",
    "\n",
    "# Coefficient matrix\n",
    "A = np.array([[4,1,1,0,1], [-1,-3,1,1,0], [2,1,5,-1,-1], [-1,-1,-1,4,0],[0,2,-1,1,4]])\n",
    "\n",
    "# Right-hand side vector\n",
    "b = np.array([6, 6,6,6,6])\n",
    "\n",
    "# Solve the system using linalg.solve\n",
    "solution = np.linalg.solve(A, b)\n",
    "\n",
    "print(\"Solution:\", solution)\n"
   ]
  },
  {
   "cell_type": "code",
   "execution_count": 8,
   "id": "3084ddc3-d3f1-495f-b182-72f570518437",
   "metadata": {},
   "outputs": [
    {
     "ename": "ModuleNotFoundError",
     "evalue": "No module named 'pygsl'",
     "output_type": "error",
     "traceback": [
      "\u001b[1;31m---------------------------------------------------------------------------\u001b[0m",
      "\u001b[1;31mModuleNotFoundError\u001b[0m                       Traceback (most recent call last)",
      "\u001b[1;32m<ipython-input-8-34afed214658>\u001b[0m in \u001b[0;36m<module>\u001b[1;34m\u001b[0m\n\u001b[0;32m      1\u001b[0m \u001b[1;31m# 13 Using GSL LU decomposition\u001b[0m\u001b[1;33m\u001b[0m\u001b[1;33m\u001b[0m\u001b[1;33m\u001b[0m\u001b[0m\n\u001b[0;32m      2\u001b[0m \u001b[1;32mimport\u001b[0m \u001b[0mnumpy\u001b[0m \u001b[1;32mas\u001b[0m \u001b[0mnp\u001b[0m\u001b[1;33m\u001b[0m\u001b[1;33m\u001b[0m\u001b[0m\n\u001b[1;32m----> 3\u001b[1;33m \u001b[1;32mfrom\u001b[0m \u001b[0mpygsl\u001b[0m \u001b[1;32mimport\u001b[0m \u001b[0mlinalg\u001b[0m\u001b[1;33m\u001b[0m\u001b[1;33m\u001b[0m\u001b[0m\n\u001b[0m\u001b[0;32m      4\u001b[0m \u001b[1;33m\u001b[0m\u001b[0m\n\u001b[0;32m      5\u001b[0m \u001b[1;31m# Define a matrix A\u001b[0m\u001b[1;33m\u001b[0m\u001b[1;33m\u001b[0m\u001b[1;33m\u001b[0m\u001b[0m\n",
      "\u001b[1;31mModuleNotFoundError\u001b[0m: No module named 'pygsl'"
     ]
    }
   ],
   "source": [
    "# 13 Using GSL LU decomposition\n",
    "import numpy as np\n",
    "from pygsl import linalg\n",
    "\n",
    "# Define a matrix A\n",
    "A = np.array([[2, -1, 0], [-1, 2, -1], [0, -1, 2]], dtype=float)\n",
    "\n",
    "# Compute LU decomposition using GSL\n",
    "lu_decomp = linalg.LU(A)\n",
    "\n",
    "# Get the LU decomposition matrices\n",
    "L = lu_decomp.L().copy()  # Lower triangular matrix\n",
    "U = lu_decomp.U().copy()  # Upper triangular matrix\n",
    "P = lu_decomp.P().copy()  # Permutation matrix\n",
    "\n",
    "# Print the LU decomposition matrices\n",
    "print(\"Lower Triangular Matrix (L):\")\n",
    "print(L)\n",
    "print(\"\\nUpper Triangular Matrix (U):\")\n",
    "print(U)\n",
    "print(\"\\nPermutation Matrix (P):\")\n",
    "print(P)\n",
    "\n",
    "# Verify LU decomposition is correct: A = PLU\n",
    "result = np.matmul(P, np.matmul(L, U))\n",
    "print(\"\\nResult of PLU (Should be equal to A):\")\n",
    "print(result)\n"
   ]
  },
  {
   "cell_type": "code",
   "execution_count": 9,
   "id": "dbc1b140-1cb4-4a9e-9fd1-99a4ba255102",
   "metadata": {},
   "outputs": [
    {
     "name": "stdout",
     "output_type": "stream",
     "text": [
      "Solution: [ 7.85301897  0.42257646 -0.07364919 -0.54116273  0.01062043]\n",
      "Number of iterations: 48\n"
     ]
    }
   ],
   "source": [
    "# 16 Jacobi, Gauss siedel, Relaxation, Conjugate Gradient Method\n",
    "# 16.a Jacobi\n",
    "\n",
    "import numpy as np\n",
    "\n",
    "def jacobian_method(A, b, x0, tolerance=0.01, max_iterations=1000):\n",
    "    n = len(b)\n",
    "    x = x0.copy()  # Make a copy to avoid modifying the initial guess\n",
    "    iterations = 0\n",
    "\n",
    "    while iterations < max_iterations:\n",
    "        x_new = np.zeros_like(x)\n",
    "        for i in range(n):\n",
    "            sum_term = sum(A[i, j] * x[j] for j in range(n) if j != i)\n",
    "            x_new[i] = (b[i] - sum_term) / A[i, i]\n",
    "        if np.linalg.norm(x_new - x) < tolerance:\n",
    "            break\n",
    "        \n",
    "        x = x_new\n",
    "        iterations += 1\n",
    "\n",
    "    return x, iterations\n",
    "\n",
    "# Example usage:\n",
    "A = np.array([[0.2,0.1,1,1,0], [0.1,4,-1,1,-1], [1,-1,60,0,-2],[1,1,0,8,4],[0,-1,-2,4,700]])  # Coefficient matrix\n",
    "b = np.array([1,2,3,4,5])  # Right-hand side vector\n",
    "x0 = np.array([0, 0, 0,0,0], dtype=float)  # Initial guess for x (dtype=float to ensure floating-point results)\n",
    "\n",
    "# Solve the system using Jacobian method\n",
    "solution, iterations = jacobian_method(A, b, x0)\n",
    "\n",
    "print(\"Solution:\", solution)\n",
    "print(\"Number of iterations:\", iterations)\n"
   ]
  },
  {
   "cell_type": "code",
   "execution_count": 8,
   "id": "856e1696-715e-42fe-a017-102f3a802cf7",
   "metadata": {},
   "outputs": [
    {
     "name": "stdout",
     "output_type": "stream",
     "text": [
      "Solution: [ 7.83525748  0.42257868 -0.07319124 -0.53753055  0.01060903]\n",
      "Number of iterations: 15\n"
     ]
    }
   ],
   "source": [
    "# 16.b\n",
    "import numpy as np\n",
    "\n",
    "def gauss_seidel_method(A, b, x0, tolerance=0.01, max_iterations=1000):\n",
    "    n = len(b)\n",
    "    x = x0.copy()  # Make a copy to avoid modifying the initial guess\n",
    "    iterations = 0\n",
    "\n",
    "    while iterations < max_iterations:\n",
    "        x_new = np.zeros_like(x)\n",
    "        for i in range(n):\n",
    "            sum_term1 = np.dot(A[i, :i], x_new[:i])\n",
    "            sum_term2 = np.dot(A[i, i+1:], x[i+1:])\n",
    "            x_new[i] = (b[i] - sum_term1 - sum_term2) / A[i, i]\n",
    "        if np.linalg.norm(x_new - x) < tolerance:\n",
    "            break\n",
    "        \n",
    "        x = x_new\n",
    "        iterations += 1\n",
    "\n",
    "    return x, iterations\n",
    "\n",
    "# Example usage:\n",
    "A = np.array([[0.2,0.1,1,1,0], [0.1,4,-1,1,-1], [1,-1,60,0,-2],[1,1,0,8,4],[0,-1,-2,4,700]])  # Coefficient matrix\n",
    "b = np.array([1,2,3,4,5])  # Right-hand side vector\n",
    "x0 = np.array([0, 0, 0,0,0], dtype=float)  # Initial guess for x (dtype=float to ensure floating-point results)\n",
    "\n",
    "\n",
    "# Solve the system using Gauss-Seidel method\n",
    "solution, iterations = gauss_seidel_method(A, b, x0)\n",
    "\n",
    "print(\"Solution:\", solution)\n",
    "print(\"Number of iterations:\", iterations)"
   ]
  },
  {
   "cell_type": "code",
   "execution_count": 11,
   "id": "2e7b1a3d-eaac-49ef-9c92-f970bed4f9a0",
   "metadata": {},
   "outputs": [
    {
     "name": "stdout",
     "output_type": "stream",
     "text": [
      "Solution: [ 7.84250543  0.42258334 -0.07336146 -0.53884142  0.0106153 ]\n",
      "Number of iterations: 6\n"
     ]
    }
   ],
   "source": [
    "# 16.c\n",
    "import numpy as np\n",
    "\n",
    "def relaxation_method(A, b, x0, omega, tolerance=0.01, max_iterations=1000):\n",
    "    n = len(b)\n",
    "    x = x0.copy()\n",
    "    iterations = 0\n",
    "\n",
    "    while iterations < max_iterations:\n",
    "        x_new = np.zeros_like(x)\n",
    "        for i in range(n):\n",
    "            x_new[i] = (1 - omega) * x[i] + omega / A[i, i] * (b[i] - np.dot(A[i, :i], x_new[:i]) - np.dot(A[i, i+1:], x[i+1:]))\n",
    "        \n",
    "        if np.linalg.norm(x_new - x) < tolerance:\n",
    "            break\n",
    "        \n",
    "        x = x_new\n",
    "        iterations += 1\n",
    "\n",
    "    return x, iterations\n",
    "\n",
    "# Example usage:\n",
    "# Example usage:\n",
    "A = np.array([[0.2,0.1,1,1,0], [0.1,4,-1,1,-1], [1,-1,60,0,-2],[1,1,0,8,4],[0,-1,-2,4,700]])  # Coefficient matrix\n",
    "b = np.array([1,2,3,4,5])  # Right-hand side vector\n",
    "x0 = np.array([0, 0, 0,0,0], dtype=float)  # Initial guess for x (dtype=float to ensure floating-point results)\n",
    "\n",
    "omega = 1.25  # Relaxation parameter\n",
    "\n",
    "# Solve the system using relaxation method\n",
    "solution, iterations = relaxation_method(A, b, x0, omega)\n",
    "\n",
    "print(\"Solution:\", solution)\n",
    "print(\"Number of iterations:\", iterations)\n"
   ]
  },
  {
   "cell_type": "code",
   "execution_count": 12,
   "id": "47a4854f-7adc-4e38-90c3-24b7ccbe7d45",
   "metadata": {},
   "outputs": [
    {
     "name": "stdout",
     "output_type": "stream",
     "text": [
      "Solution: [ 7.85971308  0.42292641 -0.07359224 -0.54064302  0.01062616]\n",
      "Number of iterations: 6\n"
     ]
    }
   ],
   "source": [
    "# 16.d\n",
    "import numpy as np\n",
    "\n",
    "def conjugate_gradient(A, b, x0, tolerance=1e-10, max_iterations=1000):\n",
    "    x = x0\n",
    "    r = b - A.dot(x)\n",
    "    p = r\n",
    "    iterations = 0\n",
    "\n",
    "    while np.linalg.norm(r) > tolerance and iterations < max_iterations:\n",
    "        Ap = A.dot(p)\n",
    "        alpha = np.dot(r, r) / np.dot(p, Ap)\n",
    "        x = x + alpha * p\n",
    "        r_new = r - alpha * Ap\n",
    "        beta = np.dot(r_new, r_new) / np.dot(r, r)\n",
    "        p = r_new + beta * p\n",
    "        r = r_new\n",
    "        iterations += 1\n",
    "\n",
    "    return x, iterations\n",
    "\n",
    "# Example usage:\n",
    "A = np.array([[0.2,0.1,1,1,0], [0.1,4,-1,1,-1], [1,-1,60,0,-2],[1,1,0,8,4],[0,-1,-2,4,700]])  # Coefficient matrix\n",
    "b = np.array([1,2,3,4,5])  # Right-hand side vector\n",
    "x0 = np.array([0, 0, 0,0,0], dtype=float)  # Initial guess for x (dtype=float to ensure floating-point results)\n",
    "\n",
    "# Solve the system using conjugate gradient method\n",
    "solution, iterations = conjugate_gradient(A, b, x0)\n",
    "\n",
    "print(\"Solution:\", solution)\n",
    "print(\"Number of iterations:\", iterations)"
   ]
  },
  {
   "cell_type": "code",
   "execution_count": null,
   "id": "705ed331-5ed3-4ba9-bb84-218530f583c4",
   "metadata": {},
   "outputs": [],
   "source": []
  }
 ],
 "metadata": {
  "kernelspec": {
   "display_name": "Python 3",
   "language": "python",
   "name": "python3"
  },
  "language_info": {
   "codemirror_mode": {
    "name": "ipython",
    "version": 3
   },
   "file_extension": ".py",
   "mimetype": "text/x-python",
   "name": "python",
   "nbconvert_exporter": "python",
   "pygments_lexer": "ipython3",
   "version": "3.8.8"
  }
 },
 "nbformat": 4,
 "nbformat_minor": 5
}
