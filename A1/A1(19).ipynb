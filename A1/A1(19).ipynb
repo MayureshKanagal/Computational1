{
 "cells": [
  {
   "cell_type": "markdown",
   "id": "e17fae3d-e4e0-422b-8035-3228d8dc1b0c",
   "metadata": {},
   "source": [
    "## Problem 19: SVD with time of computation"
   ]
  },
  {
   "cell_type": "markdown",
   "id": "779de0ac-74ba-4496-a740-7bb742af113d",
   "metadata": {},
   "source": [
    "### 19.a."
   ]
  },
  {
   "cell_type": "code",
   "execution_count": 5,
   "id": "c98eeb22-a436-4f26-90bb-b7162a39086b",
   "metadata": {},
   "outputs": [
    {
     "name": "stdout",
     "output_type": "stream",
     "text": [
      "Singular Values: [2.41421356 0.41421356]\n",
      "\n",
      "U matrix:\n",
      "[[-0.92387953 -0.38268343]\n",
      " [-0.38268343  0.92387953]]\n",
      "\n",
      "Sigma matrix:\n",
      "[[2.41421356 0.        ]\n",
      " [0.         0.41421356]]\n",
      "\n",
      "V transpose matrix:\n",
      "[[-0.92387953 -0.38268343]\n",
      " [ 0.38268343 -0.92387953]]\n",
      "\n",
      "Elapsed Time (seconds): 1.5225694179534912\n"
     ]
    }
   ],
   "source": [
    "import numpy as np\n",
    "import time\n",
    "\n",
    "# Define a matrix A\n",
    "A = np.array([[2,1], [1,0]])\n",
    "\n",
    "# Start the timer\n",
    "start_time = time.time()\n",
    "\n",
    "# Compute SVD using numpy.linalg.svd\n",
    "U, s, Vt = np.linalg.svd(A)\n",
    "\n",
    "# Stop the timer\n",
    "end_time = time.time()\n",
    "\n",
    "# Calculate the elapsed time\n",
    "elapsed_time = end_time - start_time\n",
    "\n",
    "# Create the Sigma matrix from the singular values s\n",
    "Sigma = np.diag(s)\n",
    "\n",
    "# Print the singular values, U, Sigma, and Vt\n",
    "print(\"Singular Values:\", s)\n",
    "print(\"\\nU matrix:\")\n",
    "print(U)\n",
    "print(\"\\nSigma matrix:\")\n",
    "print(Sigma)\n",
    "print(\"\\nV transpose matrix:\")\n",
    "print(Vt)\n",
    "\n",
    "# Print the elapsed time\n",
    "print(\"\\nElapsed Time (seconds):\", elapsed_time)"
   ]
  },
  {
   "cell_type": "markdown",
   "id": "f7c5cead-6a27-4ad9-9c82-84f5cb5efbe8",
   "metadata": {},
   "source": [
    "### 19 b."
   ]
  },
  {
   "cell_type": "code",
   "execution_count": 6,
   "id": "356bf893-8e10-4ded-975b-832e4acfefeb",
   "metadata": {},
   "outputs": [
    {
     "name": "stdout",
     "output_type": "stream",
     "text": [
      "Singular Values: [2.44948974 1.        ]\n",
      "\n",
      "U matrix:\n",
      "[[-9.12870929e-01  4.80183453e-17 -4.08248290e-01]\n",
      " [-3.65148372e-01 -4.47213595e-01  8.16496581e-01]\n",
      " [-1.82574186e-01  8.94427191e-01  4.08248290e-01]]\n",
      "\n",
      "Sigma matrix:\n",
      "[[2.44948974 0.        ]\n",
      " [0.         1.        ]]\n",
      "\n",
      "V transpose matrix:\n",
      "[[-0.89442719 -0.4472136 ]\n",
      " [-0.4472136   0.89442719]]\n",
      "\n",
      "Elapsed Time (seconds): 1.543910026550293\n"
     ]
    }
   ],
   "source": [
    "import numpy as np\n",
    "import time\n",
    "\n",
    "# Define a matrix A\n",
    "A = np.array([[2,1], [1,0],[0,1]])\n",
    "\n",
    "# Start the timer\n",
    "start_time = time.time()\n",
    "\n",
    "# Compute SVD using numpy.linalg.svd\n",
    "U, s, Vt = np.linalg.svd(A)\n",
    "\n",
    "# Stop the timer\n",
    "end_time = time.time()\n",
    "\n",
    "# Calculate the elapsed time\n",
    "elapsed_time = end_time - start_time\n",
    "\n",
    "# Create the Sigma matrix from the singular values s\n",
    "Sigma = np.diag(s)\n",
    "\n",
    "# Print the singular values, U, Sigma, and Vt\n",
    "print(\"Singular Values:\", s)\n",
    "print(\"\\nU matrix:\")\n",
    "print(U)\n",
    "print(\"\\nSigma matrix:\")\n",
    "print(Sigma)\n",
    "print(\"\\nV transpose matrix:\")\n",
    "print(Vt)\n",
    "\n",
    "# Print the elapsed time\n",
    "print(\"\\nElapsed Time (seconds):\", elapsed_time)"
   ]
  },
  {
   "cell_type": "markdown",
   "id": "c905cf1b-0c92-4641-89d4-b0d568797f67",
   "metadata": {},
   "source": [
    "### 19.c."
   ]
  },
  {
   "cell_type": "code",
   "execution_count": 7,
   "id": "fd4e01b6-c637-4986-9686-ddc151a6dfdc",
   "metadata": {},
   "outputs": [
    {
     "name": "stdout",
     "output_type": "stream",
     "text": [
      "Singular Values: [3.16227766 2.        ]\n",
      "\n",
      "U matrix:\n",
      "[[-0.63245553 -0.5        -0.52229321 -0.27786652]\n",
      " [ 0.31622777 -0.5        -0.30196857  0.74753928]\n",
      " [-0.31622777 -0.5         0.79704714  0.12130893]\n",
      " [-0.63245553  0.5        -0.02721464  0.59098169]]\n",
      "\n",
      "Sigma matrix:\n",
      "[[3.16227766 0.        ]\n",
      " [0.         2.        ]]\n",
      "\n",
      "V transpose matrix:\n",
      "[[-1. -0.]\n",
      " [-0. -1.]]\n",
      "\n",
      "Elapsed Time (seconds): 0.0\n"
     ]
    }
   ],
   "source": [
    "import numpy as np\n",
    "import time\n",
    "\n",
    "# Define a matrix A\n",
    "A = np.array([[2,1], [-1,1],[1,1],[2,-1]])\n",
    "\n",
    "# Start the timer\n",
    "start_time = time.time()\n",
    "\n",
    "# Compute SVD using numpy.linalg.svd\n",
    "U, s, Vt = np.linalg.svd(A)\n",
    "\n",
    "# Stop the timer\n",
    "end_time = time.time()\n",
    "\n",
    "# Calculate the elapsed time\n",
    "elapsed_time = end_time - start_time\n",
    "\n",
    "# Create the Sigma matrix from the singular values s\n",
    "Sigma = np.diag(s)\n",
    "\n",
    "# Print the singular values, U, Sigma, and Vt\n",
    "print(\"Singular Values:\", s)\n",
    "print(\"\\nU matrix:\")\n",
    "print(U)\n",
    "print(\"\\nSigma matrix:\")\n",
    "print(Sigma)\n",
    "print(\"\\nV transpose matrix:\")\n",
    "print(Vt)\n",
    "\n",
    "# Print the elapsed time\n",
    "print(\"\\nElapsed Time (seconds):\", elapsed_time)"
   ]
  },
  {
   "cell_type": "markdown",
   "id": "f55ca56f-9f60-477b-83cf-14f2a8c25633",
   "metadata": {
    "tags": []
   },
   "source": [
    "### 19.d."
   ]
  },
  {
   "cell_type": "code",
   "execution_count": 8,
   "id": "a77385f7-8630-45bf-87b9-c7eba10800f0",
   "metadata": {
    "tags": []
   },
   "outputs": [
    {
     "name": "stdout",
     "output_type": "stream",
     "text": [
      "Singular Values: [2.64575131 1.         1.        ]\n",
      "\n",
      "U matrix:\n",
      "[[-4.36435780e-01  7.07106781e-01  4.08248290e-01 -3.77964473e-01]\n",
      " [ 4.36435780e-01  7.07106781e-01 -4.08248290e-01  3.77964473e-01]\n",
      " [-4.36435780e-01 -2.17233366e-16 -8.16496581e-01 -3.77964473e-01]\n",
      " [-6.54653671e-01  9.98489519e-17 -9.01324781e-17  7.55928946e-01]]\n",
      "\n",
      "Sigma matrix:\n",
      "[[2.64575131 0.         0.        ]\n",
      " [0.         1.         0.        ]\n",
      " [0.         0.         1.        ]]\n",
      "\n",
      "V transpose matrix:\n",
      "[[-0.57735027 -0.57735027  0.57735027]\n",
      " [ 0.          0.70710678  0.70710678]\n",
      " [ 0.81649658 -0.40824829  0.40824829]]\n",
      "\n",
      "Elapsed Time (seconds): 1.5206146240234375\n"
     ]
    }
   ],
   "source": [
    "import numpy as np\n",
    "import time\n",
    "\n",
    "# Define a matrix A\n",
    "A = np.array([[1,1,0], [-1,0,1],[0,1,-1],[1,1,-1]])\n",
    "\n",
    "# Start the timer\n",
    "start_time = time.time()\n",
    "\n",
    "# Compute SVD using numpy.linalg.svd\n",
    "U, s, Vt = np.linalg.svd(A)\n",
    "\n",
    "# Stop the timer\n",
    "end_time = time.time()\n",
    "\n",
    "# Calculate the elapsed time\n",
    "elapsed_time = end_time - start_time\n",
    "\n",
    "# Create the Sigma matrix from the singular values s\n",
    "Sigma = np.diag(s)\n",
    "\n",
    "# Print the singular values, U, Sigma, and Vt\n",
    "print(\"Singular Values:\", s)\n",
    "print(\"\\nU matrix:\")\n",
    "print(U)\n",
    "print(\"\\nSigma matrix:\")\n",
    "print(Sigma)\n",
    "print(\"\\nV transpose matrix:\")\n",
    "print(Vt)\n",
    "\n",
    "# Print the elapsed time\n",
    "print(\"\\nElapsed Time (seconds):\", elapsed_time)"
   ]
  },
  {
   "cell_type": "markdown",
   "id": "e14bfb59-10fa-4ac4-85d5-b453cd81dfe0",
   "metadata": {},
   "source": [
    "### 19.e."
   ]
  },
  {
   "cell_type": "code",
   "execution_count": 1,
   "id": "61eec5de-f719-4881-929c-aca6cf3e9ce9",
   "metadata": {},
   "outputs": [
    {
     "name": "stdout",
     "output_type": "stream",
     "text": [
      "Singular Values: [2.64575131 1.         1.        ]\n",
      "\n",
      "U matrix:\n",
      "[[-4.36435780e-01  7.07106781e-01  4.08248290e-01 -3.77964473e-01]\n",
      " [ 4.36435780e-01  7.07106781e-01 -4.08248290e-01  3.77964473e-01]\n",
      " [-4.36435780e-01 -2.17233366e-16 -8.16496581e-01 -3.77964473e-01]\n",
      " [-6.54653671e-01  9.98489519e-17 -9.01324781e-17  7.55928946e-01]]\n",
      "\n",
      "Sigma matrix:\n",
      "[[2.64575131 0.         0.        ]\n",
      " [0.         1.         0.        ]\n",
      " [0.         0.         1.        ]]\n",
      "\n",
      "V transpose matrix:\n",
      "[[-0.57735027 -0.57735027  0.57735027]\n",
      " [ 0.          0.70710678  0.70710678]\n",
      " [ 0.81649658 -0.40824829  0.40824829]]\n",
      "\n",
      "Elapsed Time (seconds): 1.5734999179840088\n"
     ]
    }
   ],
   "source": [
    "import numpy as np\n",
    "import time\n",
    "\n",
    "# Define a matrix A\n",
    "A = np.array([[1,1,0], [-1,0,1],[0,1,-1],[1,1,-1]])\n",
    "\n",
    "# Start the timer\n",
    "start_time = time.time()\n",
    "\n",
    "# Compute SVD using numpy.linalg.svd\n",
    "U, s, Vt = np.linalg.svd(A)\n",
    "\n",
    "# Stop the timer\n",
    "end_time = time.time()\n",
    "\n",
    "# Calculate the elapsed time\n",
    "elapsed_time = end_time - start_time\n",
    "\n",
    "# Create the Sigma matrix from the singular values s\n",
    "Sigma = np.diag(s)\n",
    "\n",
    "# Print the singular values, U, Sigma, and Vt\n",
    "print(\"Singular Values:\", s)\n",
    "print(\"\\nU matrix:\")\n",
    "print(U)\n",
    "print(\"\\nSigma matrix:\")\n",
    "print(Sigma)\n",
    "print(\"\\nV transpose matrix:\")\n",
    "print(Vt)\n",
    "\n",
    "# Print the elapsed time\n",
    "print(\"\\nElapsed Time (seconds):\", elapsed_time)"
   ]
  },
  {
   "cell_type": "markdown",
   "id": "8d60d683-f889-41d7-a99c-c03ac9266054",
   "metadata": {},
   "source": [
    "### 19.f."
   ]
  },
  {
   "cell_type": "code",
   "execution_count": 9,
   "id": "a9c8b6de-34be-48e7-b765-fee445438413",
   "metadata": {},
   "outputs": [
    {
     "name": "stdout",
     "output_type": "stream",
     "text": [
      "Singular Values: [2.23606798 1.41421356 1.        ]\n",
      "\n",
      "U matrix:\n",
      "[[-5.47722558e-01 -3.90285274e-16 -7.07106781e-01 -1.32058463e-01\n",
      "  -4.27271064e-01]\n",
      " [-3.65148372e-01 -4.08248290e-01  1.81370028e-16 -5.43516408e-01\n",
      "   6.36073827e-01]\n",
      " [-5.47722558e-01  3.18822902e-16  7.07106781e-01 -1.32058463e-01\n",
      "  -4.27271064e-01]\n",
      " [-3.65148372e-01 -4.08248290e-01  1.39736665e-16  8.07633333e-01\n",
      "   2.18468301e-01]\n",
      " [-3.65148372e-01  8.16496581e-01 -3.49434877e-16  1.32058463e-01\n",
      "   4.27271064e-01]]\n",
      "\n",
      "Sigma matrix:\n",
      "[[2.23606798 0.         0.        ]\n",
      " [0.         1.41421356 0.        ]\n",
      " [0.         0.         1.        ]]\n",
      "\n",
      "V transpose matrix:\n",
      "[[-4.08248290e-01 -8.16496581e-01 -4.08248290e-01]\n",
      " [ 5.77350269e-01 -5.77350269e-01  5.77350269e-01]\n",
      " [ 7.07106781e-01  1.95639229e-16 -7.07106781e-01]]\n",
      "\n",
      "Elapsed Time (seconds): 1.5115020275115967\n"
     ]
    }
   ],
   "source": [
    "import numpy as np\n",
    "import time\n",
    "\n",
    "# Define a matrix A\n",
    "A = np.array([[0,1,1], [0,1,0],[1,1,0],[0,1,0],[1,0,1]])\n",
    "\n",
    "# Start the timer\n",
    "start_time = time.time()\n",
    "\n",
    "# Compute SVD using numpy.linalg.svd\n",
    "U, s, Vt = np.linalg.svd(A)\n",
    "\n",
    "# Stop the timer\n",
    "end_time = time.time()\n",
    "\n",
    "# Calculate the elapsed time\n",
    "elapsed_time = end_time - start_time\n",
    "\n",
    "# Create the Sigma matrix from the singular values s\n",
    "Sigma = np.diag(s)\n",
    "\n",
    "# Print the singular values, U, Sigma, and Vt\n",
    "print(\"Singular Values:\", s)\n",
    "print(\"\\nU matrix:\")\n",
    "print(U)\n",
    "print(\"\\nSigma matrix:\")\n",
    "print(Sigma)\n",
    "print(\"\\nV transpose matrix:\")\n",
    "print(Vt)\n",
    "\n",
    "# Print the elapsed time\n",
    "print(\"\\nElapsed Time (seconds):\", elapsed_time)"
   ]
  }
 ],
 "metadata": {
  "kernelspec": {
   "display_name": "Python 3",
   "language": "python",
   "name": "python3"
  },
  "language_info": {
   "codemirror_mode": {
    "name": "ipython",
    "version": 3
   },
   "file_extension": ".py",
   "mimetype": "text/x-python",
   "name": "python",
   "nbconvert_exporter": "python",
   "pygments_lexer": "ipython3",
   "version": "3.8.8"
  }
 },
 "nbformat": 4,
 "nbformat_minor": 5
}
