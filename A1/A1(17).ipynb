{
 "cells": [
  {
   "cell_type": "markdown",
   "id": "9b3fba08-dc6b-462f-9c72-9be297b547cc",
   "metadata": {},
   "source": [
    "## Problem 17: QR decomposition"
   ]
  },
  {
   "cell_type": "markdown",
   "id": "99ff94bc-3a32-4877-b77b-2ed8513e5b6a",
   "metadata": {},
   "source": [
    "### 17a. using numpy.linalg.qr"
   ]
  },
  {
   "cell_type": "code",
   "execution_count": 1,
   "id": "023d4e59-7d1f-4234-938c-f1d3d90b047f",
   "metadata": {},
   "outputs": [
    {
     "name": "stdout",
     "output_type": "stream",
     "text": [
      "Q matrix:\n",
      "[[-0.92847669  0.37139068]\n",
      " [ 0.37139068  0.92847669]]\n",
      "\n",
      "R matrix:\n",
      "[[-5.38516481  4.82807879]\n",
      " [ 0.          6.68503217]]\n",
      "\n",
      "Verifying QR = A:\n",
      "[[ 5. -2.]\n",
      " [-2.  8.]]\n"
     ]
    }
   ],
   "source": [
    "import numpy as np\n",
    "\n",
    "# Define a matrix A for QR decomposition\n",
    "A = np.array([[5,-2], [-2,8]])\n",
    "\n",
    "# Perform QR decomposition using numpy.linalg.qr\n",
    "Q, R = np.linalg.qr(A)\n",
    "\n",
    "# Print the Q and R matrices\n",
    "print(\"Q matrix:\")\n",
    "print(Q)\n",
    "print(\"\\nR matrix:\")\n",
    "print(R)\n",
    "\n",
    "# Verify that QR = A\n",
    "print(\"\\nVerifying QR = A:\")\n",
    "print(np.dot(Q, R))"
   ]
  },
  {
   "cell_type": "markdown",
   "id": "157329f4-d8c8-47c1-b3b6-5d9f7fc8a6d9",
   "metadata": {},
   "source": [
    "### Using Qr decomposition to get the eigenvalues"
   ]
  },
  {
   "cell_type": "code",
   "execution_count": 1,
   "id": "2910c245-f5da-4150-be51-1825e0cca94f",
   "metadata": {},
   "outputs": [
    {
     "name": "stdout",
     "output_type": "stream",
     "text": [
      "Eigenvalues: [9. 4.]\n",
      "Number of iterations: 32\n"
     ]
    }
   ],
   "source": [
    "import numpy as np\n",
    "\n",
    "def qr_algorithm(A, max_iterations=1000, tolerance=1e-10):\n",
    "    n = A.shape[0]\n",
    "    eigenvalues = np.zeros(n, dtype=complex)\n",
    "    iterations = 0\n",
    "\n",
    "    while iterations < max_iterations:\n",
    "        Q, R = np.linalg.qr(A)\n",
    "        A = np.dot(R, Q)\n",
    "        eigenvalues = np.diag(A)\n",
    "        \n",
    "        # Check for convergence\n",
    "        if np.max(np.abs(np.diag(R, k=1))) < tolerance:\n",
    "            break\n",
    "\n",
    "        iterations += 1\n",
    "\n",
    "    return eigenvalues, iterations\n",
    "\n",
    "# Example usage:\n",
    "A = np.array([[5,-2], [-2,8]])\n",
    "eigenvalues, iterations = qr_algorithm(A)\n",
    "\n",
    "print(\"Eigenvalues:\", eigenvalues)\n",
    "print(\"Number of iterations:\", iterations)\n",
    "A = np.array([[5,-2], [-2,8]])"
   ]
  },
  {
   "cell_type": "markdown",
   "id": "410d25a1-bd3c-4f49-9deb-2ab5fcbcacee",
   "metadata": {},
   "source": [
    "### Comparing with numpy.linalg.eigh"
   ]
  },
  {
   "cell_type": "code",
   "execution_count": 3,
   "id": "29c88295-493f-4500-bbaa-c628b656496a",
   "metadata": {},
   "outputs": [
    {
     "name": "stdout",
     "output_type": "stream",
     "text": [
      "Eigenvalues: [4. 9.]\n",
      "\n",
      "Eigenvectors:\n",
      "[[-0.89442719 -0.4472136 ]\n",
      " [-0.4472136   0.89442719]]\n"
     ]
    }
   ],
   "source": [
    "import numpy as np\n",
    "\n",
    "# Define a symmetric matrix A\n",
    "A = np.array([[5,-2], [-2,8]])\n",
    "\n",
    "# Compute eigenvalues and eigenvectors using numpy.linalg.eigh\n",
    "eigenvalues, eigenvectors = np.linalg.eigh(A)\n",
    "\n",
    "# Print the eigenvalues and eigenvectors\n",
    "print(\"Eigenvalues:\", eigenvalues)\n",
    "print(\"\\nEigenvectors:\")\n",
    "print(eigenvectors)"
   ]
  },
  {
   "cell_type": "code",
   "execution_count": null,
   "id": "976289b7-ce97-444f-b9f2-e9fe2d4980c4",
   "metadata": {},
   "outputs": [],
   "source": []
  }
 ],
 "metadata": {
  "kernelspec": {
   "display_name": "Python 3 (ipykernel)",
   "language": "python",
   "name": "python3"
  },
  "language_info": {
   "codemirror_mode": {
    "name": "ipython",
    "version": 3
   },
   "file_extension": ".py",
   "mimetype": "text/x-python",
   "name": "python",
   "nbconvert_exporter": "python",
   "pygments_lexer": "ipython3",
   "version": "3.8.8"
  }
 },
 "nbformat": 4,
 "nbformat_minor": 5
}
