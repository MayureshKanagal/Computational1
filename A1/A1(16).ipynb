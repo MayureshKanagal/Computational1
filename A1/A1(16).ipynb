{
 "cells": [
  {
   "cell_type": "markdown",
   "id": "57bf4d77-ff78-4397-91d2-1c7e3a17225e",
   "metadata": {},
   "source": [
    "## Problem 16: Jacobi, Gauss siedel, Relaxation, Conjugate Gradient Method"
   ]
  },
  {
   "cell_type": "markdown",
   "id": "7c8df497-30c7-45bf-97f7-51303c01ae6e",
   "metadata": {},
   "source": [
    "### 16.a: Jacobi"
   ]
  },
  {
   "cell_type": "code",
   "execution_count": 9,
   "id": "752cfc42-552e-4cb3-bf0e-c6e46606172c",
   "metadata": {},
   "outputs": [
    {
     "name": "stdout",
     "output_type": "stream",
     "text": [
      "Solution: [ 7.85301897  0.42257646 -0.07364919 -0.54116273  0.01062043]\n",
      "Number of iterations: 48\n"
     ]
    }
   ],
   "source": [
    "import numpy as np\n",
    "\n",
    "def jacobian_method(A, b, x0, tolerance=0.01, max_iterations=1000):\n",
    "    n = len(b)\n",
    "    x = x0.copy()  # Make a copy to avoid modifying the initial guess\n",
    "    iterations = 0\n",
    "\n",
    "    while iterations < max_iterations:\n",
    "        x_new = np.zeros_like(x)\n",
    "        for i in range(n):\n",
    "            sum_term = sum(A[i, j] * x[j] for j in range(n) if j != i)\n",
    "            x_new[i] = (b[i] - sum_term) / A[i, i]\n",
    "        if np.linalg.norm(x_new - x) < tolerance:\n",
    "            break\n",
    "        \n",
    "        x = x_new\n",
    "        iterations += 1\n",
    "\n",
    "    return x, iterations\n",
    "\n",
    "# Example usage:\n",
    "A = np.array([[0.2,0.1,1,1,0], [0.1,4,-1,1,-1], [1,-1,60,0,-2],[1,1,0,8,4],[0,-1,-2,4,700]])  # Coefficient matrix\n",
    "b = np.array([1,2,3,4,5])  # Right-hand side vector\n",
    "x0 = np.array([0, 0, 0,0,0], dtype=float)  # Initial guess for x (dtype=float to ensure floating-point results)\n",
    "\n",
    "# Solve the system using Jacobian method\n",
    "solution, iterations = jacobian_method(A, b, x0)\n",
    "\n",
    "print(\"Solution:\", solution)\n",
    "print(\"Number of iterations:\", iterations)"
   ]
  },
  {
   "cell_type": "markdown",
   "id": "6fe6cce3-2128-4079-8748-05d6b8762c29",
   "metadata": {},
   "source": [
    "### 16.b: Gauss Siedel"
   ]
  },
  {
   "cell_type": "code",
   "execution_count": 8,
   "id": "ff370857-4625-4879-84fc-00faa489e4b1",
   "metadata": {},
   "outputs": [
    {
     "name": "stdout",
     "output_type": "stream",
     "text": [
      "Solution: [ 7.83525748  0.42257868 -0.07319124 -0.53753055  0.01060903]\n",
      "Number of iterations: 15\n"
     ]
    }
   ],
   "source": [
    "import numpy as np\n",
    "\n",
    "def gauss_seidel_method(A, b, x0, tolerance=0.01, max_iterations=1000):\n",
    "    n = len(b)\n",
    "    x = x0.copy()  # Make a copy to avoid modifying the initial guess\n",
    "    iterations = 0\n",
    "\n",
    "    while iterations < max_iterations:\n",
    "        x_new = np.zeros_like(x)\n",
    "        for i in range(n):\n",
    "            sum_term1 = np.dot(A[i, :i], x_new[:i])\n",
    "            sum_term2 = np.dot(A[i, i+1:], x[i+1:])\n",
    "            x_new[i] = (b[i] - sum_term1 - sum_term2) / A[i, i]\n",
    "        if np.linalg.norm(x_new - x) < tolerance:\n",
    "            break\n",
    "        \n",
    "        x = x_new\n",
    "        iterations += 1\n",
    "\n",
    "    return x, iterations\n",
    "\n",
    "# Example usage:\n",
    "A = np.array([[0.2,0.1,1,1,0], [0.1,4,-1,1,-1], [1,-1,60,0,-2],[1,1,0,8,4],[0,-1,-2,4,700]])  # Coefficient matrix\n",
    "b = np.array([1,2,3,4,5])  # Right-hand side vector\n",
    "x0 = np.array([0, 0, 0,0,0], dtype=float)  # Initial guess for x (dtype=float to ensure floating-point results)\n",
    "\n",
    "\n",
    "# Solve the system using Gauss-Seidel method\n",
    "solution, iterations = gauss_seidel_method(A, b, x0)\n",
    "\n",
    "print(\"Solution:\", solution)\n",
    "print(\"Number of iterations:\", iterations)"
   ]
  },
  {
   "cell_type": "markdown",
   "id": "15a40e38-f107-49a6-9544-fe7ff6ba0568",
   "metadata": {},
   "source": [
    "### 16.c: Relaxation method"
   ]
  },
  {
   "cell_type": "code",
   "execution_count": 11,
   "id": "f3c94fb9-196b-41e9-bc6b-bd2eb132bb61",
   "metadata": {},
   "outputs": [
    {
     "name": "stdout",
     "output_type": "stream",
     "text": [
      "Solution: [ 7.84250543  0.42258334 -0.07336146 -0.53884142  0.0106153 ]\n",
      "Number of iterations: 6\n"
     ]
    }
   ],
   "source": [
    "import numpy as np\n",
    "\n",
    "def relaxation_method(A, b, x0, omega, tolerance=0.01, max_iterations=1000):\n",
    "    n = len(b)\n",
    "    x = x0.copy()\n",
    "    iterations = 0\n",
    "\n",
    "    while iterations < max_iterations:\n",
    "        x_new = np.zeros_like(x)\n",
    "        for i in range(n):\n",
    "            x_new[i] = (1 - omega) * x[i] + omega / A[i, i] * (b[i] - np.dot(A[i, :i], x_new[:i]) - np.dot(A[i, i+1:], x[i+1:]))\n",
    "        \n",
    "        if np.linalg.norm(x_new - x) < tolerance:\n",
    "            break\n",
    "        \n",
    "        x = x_new\n",
    "        iterations += 1\n",
    "\n",
    "    return x, iterations\n",
    "\n",
    "# Example usage:\n",
    "# Example usage:\n",
    "A = np.array([[0.2,0.1,1,1,0], [0.1,4,-1,1,-1], [1,-1,60,0,-2],[1,1,0,8,4],[0,-1,-2,4,700]])  # Coefficient matrix\n",
    "b = np.array([1,2,3,4,5])  # Right-hand side vector\n",
    "x0 = np.array([0, 0, 0,0,0], dtype=float)  # Initial guess for x (dtype=float to ensure floating-point results)\n",
    "\n",
    "omega = 1.25  # Relaxation parameter\n",
    "\n",
    "# Solve the system using relaxation method\n",
    "solution, iterations = relaxation_method(A, b, x0, omega)\n",
    "\n",
    "print(\"Solution:\", solution)\n",
    "print(\"Number of iterations:\", iterations)"
   ]
  },
  {
   "cell_type": "markdown",
   "id": "171c64f5-7039-43c5-be68-0330a73841d5",
   "metadata": {},
   "source": [
    "### 16.d: Conjugate Gradient"
   ]
  },
  {
   "cell_type": "code",
   "execution_count": 1,
   "id": "3f0ae437-04fd-4d60-bc18-039a0905a164",
   "metadata": {},
   "outputs": [
    {
     "name": "stdout",
     "output_type": "stream",
     "text": [
      "Solution: [ 7.85971308  0.42292641 -0.07359224 -0.54064302  0.01062616]\n",
      "Number of iterations: 6\n"
     ]
    }
   ],
   "source": [
    "import numpy as np\n",
    "\n",
    "def conjugate_gradient(A, b, x0, tolerance=1e-10, max_iterations=1000):\n",
    "    x = x0\n",
    "    r = b - A.dot(x)\n",
    "    p = r\n",
    "    iterations = 0\n",
    "\n",
    "    while np.linalg.norm(r) > tolerance and iterations < max_iterations:\n",
    "        Ap = A.dot(p)\n",
    "        alpha = np.dot(r, r) / np.dot(p, Ap)\n",
    "        x = x + alpha * p\n",
    "        r_new = r - alpha * Ap\n",
    "        beta = np.dot(r_new, r_new) / np.dot(r, r)\n",
    "        p = r_new + beta * p\n",
    "        r = r_new\n",
    "        iterations += 1\n",
    "\n",
    "    return x, iterations\n",
    "\n",
    "# Example usage:\n",
    "A = np.array([[0.2,0.1,1,1,0], [0.1,4,-1,1,-1], [1,-1,60,0,-2],[1,1,0,8,4],[0,-1,-2,4,700]])  # Coefficient matrix\n",
    "b = np.array([1,2,3,4,5])  # Right-hand side vector\n",
    "x0 = np.array([0, 0, 0,0,0], dtype=float)  # Initial guess for x (dtype=float to ensure floating-point results)\n",
    "\n",
    "# Solve the system using conjugate gradient method\n",
    "solution, iterations = conjugate_gradient(A, b, x0)\n",
    "\n",
    "print(\"Solution:\", solution)\n",
    "print(\"Number of iterations:\", iterations)"
   ]
  },
  {
   "cell_type": "code",
   "execution_count": null,
   "id": "a91cf936-2140-4ac8-80c9-cd821d547b73",
   "metadata": {},
   "outputs": [],
   "source": []
  }
 ],
 "metadata": {
  "kernelspec": {
   "display_name": "Python 3 (ipykernel)",
   "language": "python",
   "name": "python3"
  },
  "language_info": {
   "codemirror_mode": {
    "name": "ipython",
    "version": 3
   },
   "file_extension": ".py",
   "mimetype": "text/x-python",
   "name": "python",
   "nbconvert_exporter": "python",
   "pygments_lexer": "ipython3",
   "version": "3.8.8"
  }
 },
 "nbformat": 4,
 "nbformat_minor": 5
}
