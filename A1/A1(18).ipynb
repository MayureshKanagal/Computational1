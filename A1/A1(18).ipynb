{
 "cells": [
  {
   "cell_type": "markdown",
   "id": "95d96b8d-839b-4d02-a8e1-ecfc2eafaec7",
   "metadata": {
    "tags": []
   },
   "source": [
    "## Problem 18: Power Method"
   ]
  },
  {
   "cell_type": "code",
   "execution_count": 2,
   "id": "a65e3bde-df16-4cf7-92b3-28644bcbb898",
   "metadata": {},
   "outputs": [
    {
     "name": "stdout",
     "output_type": "stream",
     "text": [
      "Dominant Eigenvalue: 3.413771309884967\n",
      "Corresponding Eigenvector: [-0.48656947  0.7084328  -0.51124664]\n",
      "Number of iterations: 4\n"
     ]
    }
   ],
   "source": [
    "\n",
    "import numpy as np\n",
    "\n",
    "def power_iteration(A, max_iterations=1000, tolerance=0.01):\n",
    "    n = A.shape[0]\n",
    "    x = np.random.rand(n)  # Random initial guess for eigenvector\n",
    "    x /= np.linalg.norm(x)  # Normalize the initial guess\n",
    "    iterations = 0\n",
    "    eigenvalue_old = 0\n",
    "\n",
    "    while iterations < max_iterations:\n",
    "        x_new = np.dot(A, x)\n",
    "        eigenvalue = np.dot(x, x_new)\n",
    "        x_new /= np.linalg.norm(x_new)\n",
    "\n",
    "        if np.abs(eigenvalue - eigenvalue_old) < tolerance:\n",
    "            break\n",
    "        \n",
    "        eigenvalue_old = eigenvalue\n",
    "        x = x_new\n",
    "        iterations += 1\n",
    "\n",
    "    return eigenvalue, x, iterations\n",
    "\n",
    "# Example usage:\n",
    "A = np.array([[2,-1,0], [-1,2,-1], [0,-1,2]])  # Example symmetric matrix\n",
    "eigenvalue, eigenvector, iterations = power_iteration(A)\n",
    "\n",
    "print(\"Dominant Eigenvalue:\", eigenvalue)\n",
    "print(\"Corresponding Eigenvector:\", eigenvector)\n",
    "print(\"Number of iterations:\", iterations)"
   ]
  },
  {
   "cell_type": "code",
   "execution_count": null,
   "id": "06426a1e-ab45-4b38-83d9-84198de4cf2b",
   "metadata": {},
   "outputs": [],
   "source": []
  }
 ],
 "metadata": {
  "kernelspec": {
   "display_name": "Python 3 (ipykernel)",
   "language": "python",
   "name": "python3"
  },
  "language_info": {
   "codemirror_mode": {
    "name": "ipython",
    "version": 3
   },
   "file_extension": ".py",
   "mimetype": "text/x-python",
   "name": "python",
   "nbconvert_exporter": "python",
   "pygments_lexer": "ipython3",
   "version": "3.8.8"
  }
 },
 "nbformat": 4,
 "nbformat_minor": 5
}
