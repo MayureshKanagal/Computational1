{
 "cells": [
  {
   "cell_type": "code",
   "execution_count": 2,
   "id": "232d2cac-9415-4703-b0db-bf1ea0e7fe96",
   "metadata": {},
   "outputs": [
    {
     "data": {
      "text/plain": [
       "[<matplotlib.lines.Line2D at 0x2bc30d8f5e0>]"
      ]
     },
     "execution_count": 2,
     "metadata": {},
     "output_type": "execute_result"
    },
    {
     "data": {
      "image/png": "[encoded data removed]",
      "text/plain": [
       "<Figure size 432x288 with 1 Axes>"
      ]
     },
     "metadata": {
      "needs_background": "light"
     },
     "output_type": "display_data"
    }
   ],
   "source": [
    "import numpy as np\n",
    "import matplotlib.pyplot as plt\n",
    "\n",
    "\n",
    "\n",
    "t_min=-100\n",
    "t_max=100\n",
    "num_samples=1000\n",
    "delta_t = (t_max - t_min) / (num_samples-1)  \n",
    "t = np.linspace(t_min, t_max, num_samples, endpoint=False)\n",
    "\n",
    "def const_fun():\n",
    "    return 1/(np.sqrt(2*np.pi))\n",
    "f = np.zeros_like(t)\n",
    "for i in range(len(t)):\n",
    "    f[i]=const_fun()\n",
    "\n",
    "dft_fun=np.fft.fft(f,norm='ortho')\n",
    "\n",
    "k =(2*np.pi)* np.fft.fftfreq(num_samples, delta_t) \n",
    "F_continuous = delta_t * np.sqrt(num_samples / (2 * np.pi)) * np.exp(-1j * k * t_min) * dft_fun\n",
    "\n",
    "F_continuous=np.fft.fftshift(dft_fun)\n",
    "k = np.fft.fftshift(k)\n",
    "plt.plot(k,F_continuous)\n",
    "\n"
   ]
  },
  {
   "cell_type": "markdown",
   "id": "be03293c-080f-4c92-96f9-265ec538d8a0",
   "metadata": {},
   "source": []
  },
  {
   "cell_type": "code",
   "execution_count": null,
   "id": "34b4fad3-76dd-4047-90a8-6e4d329824d2",
   "metadata": {},
   "outputs": [],
   "source": []
  }
 ],
 "metadata": {
  "kernelspec": {
   "display_name": "Python 3",
   "language": "python",
   "name": "python3"
  },
  "language_info": {
   "codemirror_mode": {
    "name": "ipython",
    "version": 3
   },
   "file_extension": ".py",
   "mimetype": "text/x-python",
   "name": "python",
   "nbconvert_exporter": "python",
   "pygments_lexer": "ipython3",
   "version": "3.8.8"
  }
 },
 "nbformat": 4,
 "nbformat_minor": 5
}
