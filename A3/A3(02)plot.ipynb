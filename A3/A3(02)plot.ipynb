{
 "cells": [
  {
   "cell_type": "code",
   "execution_count": null,
   "id": "96a2920b-6070-4504-ab95-74a7f95b4138",
   "metadata": {},
   "outputs": [],
   "source": [
    "import numpy as np\n",
    "import matplotlib.pyplot as plt\n",
    "\n",
    "def box(k):\n",
    "\treturn 0.5*np.sqrt(np.pi/2.0)*(np.sign(k+1)-np.sign(k-1))\n",
    "\n",
    "\n",
    "x_data = np.loadtxt(\"C:/Users/sandesh/Desktop/mayuresh/Tifr sem2/computational/Assignment 3/fftw_1_data.txt\",dtype = np.float64,comments = '#',usecols = 0)\n",
    "f_data = np.loadtxt(\"C:/Users/sandesh/Desktop/mayuresh/Tifr sem2/computational/Assignment 3/fftw_1_data.txt\",dtype = np.float64,comments = '#',usecols = 1)\n",
    "k_data = np.loadtxt(\"C:/Users/sandesh/Desktop/mayuresh/Tifr sem2/computational/Assignment 3/fftw_1_data.txt\",dtype = np.float64,comments = '#',usecols = 2)\n",
    "ft_data = np.loadtxt(\"C:/Users/sandesh/Desktop/mayuresh/Tifr sem2/computational/Assignment 3/fftw_1_data.txt\",dtype = np.float64,comments = '#',usecols = 3)\n",
    "\n",
    "fig = plt.figure(constrained_layout = True)\n",
    "spec = fig.add_gridspec(1,2)\n",
    "fig.suptitle(\"Fourier transform of sinc(x) function using FFTW\",size = 15)\n",
    "p1 = fig.add_subplot(spec[0,0])\n",
    "p1.set_title(\"Configaration space\",size = 14)\n",
    "p1.plot(x_data,f_data)\n",
    "p1.set_xlabel(\"x\",size = 13)\n",
    "p1.set_ylabel(\"sinc(x)\",size = 13)\n",
    "p1.grid()\n",
    "p2 = fig.add_subplot(spec[0,1])\n",
    "p2.set_title(\"Fourier Space\",size = 14)\n",
    "p2.set_xlabel(\"frequency modes (k)\",size = 13)\n",
    "p2.set_ylabel(\"FT(sinc(x))\",size = 13)\n",
    "p2.set_xlim([-5.0,5.0])\n",
    "p2.plot(np.fft.fftshift(k_data),np.fft.fftshift(ft_data),'.-',color='blue',label = \"Numerical\")\n",
    "p2.plot(np.linspace(-5.0,5.0,500),box(np.linspace(-5.0,5.0,500)),color = '#00FF00',label = \"Analytical\",lw = 2)\n",
    "p2.legend()\n",
    "p2.grid()\n",
    "plt.show()"
   ]
  }
 ],
 "metadata": {
  "kernelspec": {
   "display_name": "Python 3 (ipykernel)",
   "language": "python",
   "name": "python3"
  },
  "language_info": {
   "codemirror_mode": {
    "name": "ipython",
    "version": 3
   },
   "file_extension": ".py",
   "mimetype": "text/x-python",
   "name": "python",
   "nbconvert_exporter": "python",
   "pygments_lexer": "ipython3",
   "version": "3.8.8"
  }
 },
 "nbformat": 4,
 "nbformat_minor": 5
}
