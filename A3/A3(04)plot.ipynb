{
 "cells": [
  {
   "cell_type": "code",
   "execution_count": null,
   "id": "be006e53-2a58-440a-824d-48f821f455b4",
   "metadata": {},
   "outputs": [],
   "source": [
    "import numpy as np\n",
    "import matplotlib.pyplot as plt\n",
    "\n",
    "def G(k):\n",
    "\treturn np.exp(-0.25*k**2.0)/np.sqrt(2.0)\n",
    "\n",
    "x_data = np.loadtxt(\"C:/Users/sandesh/Desktop/mayuresh/Tifr sem2/computational/Assignment 3/fft_data.txt\",dtype = np.float64,comments = '#',usecols = 0)\n",
    "f_data = np.loadtxt(\"C:/Users/sandesh/Desktop/mayuresh/Tifr sem2/computational/Assignment 3/fft_data.txt\",dtype = np.float64,comments = '#',usecols = 1)\n",
    "k_data = np.loadtxt(\"C:/Users/sandesh/Desktop/mayuresh/Tifr sem2/computational/Assignment 3/fft_data.txt\",dtype = np.float64,comments = '#',usecols = 2)\n",
    "ft_data = np.loadtxt(\"C:/Users/sandesh/Desktop/mayuresh/Tifr sem2/computational/Assignment 3/fft_data.txt\",dtype = np.float64,comments = '#',usecols = 3)\n",
    "\n",
    "fig = plt.figure(constrained_layout = True)\n",
    "spec = fig.add_gridspec(1,2)\n",
    "fig.suptitle(\"Fourier transform of Gaussian function using GSL\",size = 15)\n",
    "p1 = fig.add_subplot(spec[0,0])\n",
    "p1.set_title(\"Configaration space\",size = 14)\n",
    "p1.plot(x_data,f_data)\n",
    "p1.set_xlabel(\"x\",size = 13)\n",
    "p1.set_ylabel(\"exp(-x$^2$)\",size = 13)\n",
    "p1.grid()\n",
    "p2 = fig.add_subplot(spec[0,1])\n",
    "p2.set_title(\"Fourier Space\",size = 14)\n",
    "p2.set_xlabel(\"frequency modes (k)\",size = 13)\n",
    "p2.set_ylabel(\"FT(exp(-x$^2$))\",size = 13)\n",
    "p2.set_xlim([-15.0,15.0])\n",
    "p2.plot(np.fft.fftshift(k_data),np.fft.fftshift(ft_data),'o',color='blue',label = \"Numerical\")\n",
    "p2.plot(np.linspace(-15.0,15.0,1000),G(np.linspace(-15.0,15.0,1000)),color = 'green',label = 'Analytical')\n",
    "p2.legend()\n",
    "p2.grid()\n",
    "plt.show()"
   ]
  }
 ],
 "metadata": {
  "kernelspec": {
   "display_name": "Python 3",
   "language": "python",
   "name": "python3"
  },
  "language_info": {
   "codemirror_mode": {
    "name": "ipython",
    "version": 3
   },
   "file_extension": ".py",
   "mimetype": "text/x-python",
   "name": "python",
   "nbconvert_exporter": "python",
   "pygments_lexer": "ipython3",
   "version": "3.8.8"
  }
 },
 "nbformat": 4,
 "nbformat_minor": 5
}
